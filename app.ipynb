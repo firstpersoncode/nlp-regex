{
 "cells": [
  {
   "cell_type": "code",
   "execution_count": 143,
   "metadata": {},
   "outputs": [],
   "source": [
    "import re"
   ]
  },
  {
   "cell_type": "code",
   "execution_count": 146,
   "metadata": {},
   "outputs": [],
   "source": [
    "chats = [\n",
    "    'codebasics: you ask lot of questions 😠 1235678912, abc@xyz.com, 9998881234',\n",
    "    'codebasics: here it is: (123)-567-8912, abX_82@xyz.com',\n",
    "    'codebasics: yes, phone: 1235678912 email: abc-aa@xyz.services',\n",
    "    'codebasics: Hello, I am having an issue with my order # 412889912',\n",
    "    'codebasics: I have a problem with my order number 412889912',\n",
    "    'codebasics: My Order 412889912 is having an issue, I was charged 300$ when online it says 280$'\n",
    "]"
   ]
  },
  {
   "cell_type": "code",
   "execution_count": null,
   "metadata": {},
   "outputs": [],
   "source": [
    "def get_pattern_match(pattern, text, single_return = False):\n",
    "    matches = re.findall(pattern, text)\n",
    "    if matches and single_return:\n",
    "        return matches[0]\n",
    "    return matches"
   ]
  },
  {
   "cell_type": "code",
   "execution_count": null,
   "metadata": {},
   "outputs": [],
   "source": [
    "def get_pattern_matches(pattern, words):\n",
    "    return [match.strip() for text in words for match in get_pattern_match(pattern, text)]"
   ]
  },
  {
   "cell_type": "code",
   "execution_count": 147,
   "metadata": {},
   "outputs": [
    {
     "name": "stdout",
     "output_type": "stream",
     "text": [
      "['1235678912', '9998881234', '(123)-567-8912', '1235678912']\n"
     ]
    }
   ],
   "source": [
    "phone_numbers_pattern = '\\d{10}|\\(\\d{3}\\)-\\d{3}-\\d{4}'\n",
    "\n",
    "phone_numbers = get_pattern_matches(phone_numbers_pattern, chats)\n",
    "print(phone_numbers)"
   ]
  },
  {
   "cell_type": "code",
   "execution_count": 148,
   "metadata": {},
   "outputs": [
    {
     "name": "stdout",
     "output_type": "stream",
     "text": [
      "['abc@xyz.com', 'abX_82@xyz.com', 'abc-aa@xyz.services']\n"
     ]
    }
   ],
   "source": [
    "email_pattern = '[\\w_\\-\\.]*@[\\w_\\-\\.]*\\.[a-z]+'\n",
    "\n",
    "emails = get_pattern_matches(email_pattern, chats)\n",
    "print(emails)"
   ]
  },
  {
   "cell_type": "code",
   "execution_count": 149,
   "metadata": {},
   "outputs": [
    {
     "name": "stdout",
     "output_type": "stream",
     "text": [
      "['412889912', '412889912', '412889912']\n"
     ]
    }
   ],
   "source": [
    "order_pattern = '(?i)order[^\\d]*(\\d*)'\n",
    "\n",
    "orders = get_pattern_matches(order_pattern, chats)\n",
    "print(orders)"
   ]
  },
  {
   "cell_type": "code",
   "execution_count": 151,
   "metadata": {},
   "outputs": [],
   "source": [
    "data = [\n",
    "    \"\"\"\n",
    "Born\tElon Reeve Musk\n",
    "June 28, 1971 (age 50)\n",
    "Pretoria, Transvaal, South Africa\n",
    "Citizenship\t\n",
    "South Africa (1971–present)\n",
    "Canada (1971–present)\n",
    "United States (2002–present)\n",
    "Education\tUniversity of Pennsylvania (BS, BA)\n",
    "Title\t\n",
    "Founder, CEO and Chief Engineer of SpaceX\n",
    "CEO and product architect of Tesla, Inc.\n",
    "Founder of The Boring Company and X.com (now part of PayPal)\n",
    "Co-founder of Neuralink, OpenAI, and Zip2\n",
    "Spouse(s)\t\n",
    "Justine Wilson\n",
    "​\n",
    "​(m. 2000; div. 2008)​\n",
    "Talulah Riley\n",
    "​\n",
    "​(m. 2010; div. 2012)​\n",
    "​\n",
    "​(m. 2013; div. 2016)\n",
    "    \"\"\"\n",
    "]"
   ]
  },
  {
   "cell_type": "code",
   "execution_count": 152,
   "metadata": {},
   "outputs": [
    {
     "name": "stdout",
     "output_type": "stream",
     "text": [
      "['June 28, 1971']\n"
     ]
    }
   ],
   "source": [
    "age_pattern = 'age (\\d+)'\n",
    "\n",
    "ages = get_pattern_matches(age_pattern, data)\n",
    "print(ages)"
   ]
  },
  {
   "cell_type": "code",
   "execution_count": null,
   "metadata": {},
   "outputs": [],
   "source": [
    "name_pattern = 'Born(.*)\\n'\n",
    "\n",
    "names = get_pattern_matches(name_pattern, data)\n",
    "print(names)"
   ]
  },
  {
   "cell_type": "code",
   "execution_count": null,
   "metadata": {},
   "outputs": [],
   "source": [
    "birth_date_pattern = 'Born.*\\n(.*)\\(age'\n",
    "\n",
    "birth_dates = get_pattern_matches(birth_date_pattern, data)\n",
    "print(birth_dates)"
   ]
  },
  {
   "cell_type": "code",
   "execution_count": null,
   "metadata": {},
   "outputs": [],
   "source": [
    "birth_place_pattern = '\\(age.*\\n(.*)'\n",
    "\n",
    "birth_places = get_pattern_matches(birth_place_pattern, data)\n",
    "print(birth_places)"
   ]
  },
  {
   "cell_type": "code",
   "execution_count": null,
   "metadata": {},
   "outputs": [],
   "source": [
    "def extract_personal_information(text):\n",
    "    age = get_pattern_match(age_pattern, text, True)\n",
    "    full_name = get_pattern_match(name_pattern, text, True)\n",
    "    birth_date = get_pattern_match(birth_date_pattern, text, True)\n",
    "    birth_place = get_pattern_match(birth_place_pattern, text, True)\n",
    "    return {\n",
    "        'age': int(age),\n",
    "        'name': full_name.strip(),\n",
    "        'birth_date': birth_date.strip(),\n",
    "        'birth_place': birth_place.strip()\n",
    "    }"
   ]
  },
  {
   "cell_type": "code",
   "execution_count": null,
   "metadata": {},
   "outputs": [],
   "source": [
    "print(extract_personal_information(data[0]))"
   ]
  }
 ],
 "metadata": {
  "kernelspec": {
   "display_name": "venv",
   "language": "python",
   "name": "python3"
  },
  "language_info": {
   "codemirror_mode": {
    "name": "ipython",
    "version": 3
   },
   "file_extension": ".py",
   "mimetype": "text/x-python",
   "name": "python",
   "nbconvert_exporter": "python",
   "pygments_lexer": "ipython3",
   "version": "3.11.7"
  }
 },
 "nbformat": 4,
 "nbformat_minor": 2
}
